import pandas as pd
import numpy as np
import math

np.random.seed(0)

x_train = pd.read_csv("")
y = x_train.iloc[:, 0]
x_train = x_train.iloc[:, 1:]

ones = np.ones((len(x_train)), dtype='float')
x_train[784]=ones

x_train, y= x_train.to_numpy(), y.to_numpy()
x_train = x_train/255.0 #rowsX785

y_train = np.zeros((len(y), 10), dtype='float')
for i in range(len(y)):
    j = y[i]
    y_train[i, j] = 1

weights1 = np.random.rand(256, 785)
weights2 = np.random.rand(10, 256)

def sigmoid(x):
    a=np.zeros( (len(x),1), dtype='float')
    for i in range(len(a)):
        try:
            a[i, 0] = 1/(1 + math.exp(-x[i]) )
        except:
            a[i,0] = 0
        else:
            a[i, 0] = 1 / (1 + math.exp(-x[i]))
    return a

def layer1(x_train, weights1):
    return np.dot(weights1, x_train.T)

def layer2(x_train, weights1, weights2):
    a=np.dot(weights2, layer1(x_train, weights1))
    return a#10X1


def output_layer(x_train, weights1, weights2):
    z=layer2(x_train, weights1, weights2)
    z = sigmoid(z)
    return z #10X1

def backprop(x_train, y_train, weights1, weights2, learning_Rate):
    Dweights1 = np.zeros((256, 785), dtype='float')
    Dweights2 = np.zeros((10, 256), dtype='float')
    for j in range(len(y_train)):
        x = np.zeros((1, 785), dtype='float')
        prediction = output_layer(x_train[j, :],weights1, weights2)
        l = np.subtract(prediction[0, :], y_train[j, :])
        p = np.zeros((10, 1), dtype='float')
        for i in range(len(l)):
            p[i, 0] = l[i]
        Dweights1 = np.add( Dweights1,
                np.dot(
                    np.dot(weights2.T, p), x )
                            )
        Dweights2 =np.add( Dweights2,
                np.dot( p , np.dot(x, weights1.T)) )
    weights1 = np.subtract(weights1, (Dweights1 / len(y_train)) * learning_Rate)
    weights2= np.subtract(weights2, (Dweights2/len(y_train))*learning_Rate)
    return weights1, weights2
def train(x_train, y_train, weights1, weights2, learning_rate, epochs, batch_size):
    for i in range(epochs):
        for j in range(36000//batch_size):
            weights1, weights2 = backprop(x_train[j*batch_size:(j+1)*batch_size, :], y_train[j*batch_size:(j+1)*batch_size, :], weights1, weights2, learning_rate)

        if i%10 is 0:
            count = 0
            print(i)
            for j in range(36000):
                predictions = output_layer(x_train[j, :], weights1, weights2).T
                l = 0
                for k in range(len(y_train.T)): 
                    if (predictions[0, k] > predictions[0, l]):
                        l = k

                if y_train[j, l] == 1:
                    count += 1
            accuracy = (count/36000)*100
            print("\nAccuracy = ", accuracy)

train(x_train, y_train, weights1, weights2, learning_rate=0.01, epochs=2000, batch_size=30)