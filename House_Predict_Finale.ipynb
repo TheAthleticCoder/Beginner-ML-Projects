{
 "cells": [
  {
   "cell_type": "code",
   "execution_count": 1,
   "metadata": {},
   "outputs": [],
   "source": [
    "import pandas as pd\n",
    "import numpy as np\n",
    "\n",
    "from sklearn import datasets\n",
    "x,y= datasets.load_boston(return_X_y=True)\n"
   ]
  },
  {
   "cell_type": "code",
   "execution_count": 2,
   "metadata": {},
   "outputs": [],
   "source": [
    "x=pd.DataFrame(x).to_numpy()\n",
    "y=pd.DataFrame(y).to_numpy()\n",
    "split=(int)(0.8*len(x))"
   ]
  },
  {
   "cell_type": "code",
   "execution_count": 3,
   "metadata": {},
   "outputs": [],
   "source": [
    "x_train, y_train=x[:split, :], y[:split, :]\n",
    "x_test, y_test=x[split:, :], y[split:, :]"
   ]
  },
  {
   "cell_type": "code",
   "execution_count": 4,
   "metadata": {},
   "outputs": [],
   "source": [
    "ones_train=np.ones((len(x_train), 1))\n",
    "ones_test=np.ones((len(x_test), 1))"
   ]
  },
  {
   "cell_type": "code",
   "execution_count": 5,
   "metadata": {},
   "outputs": [],
   "source": [
    "x_train=pd.DataFrame(x_train)\n",
    "x_test=pd.DataFrame(x_test)\n",
    "x_train[13]=ones_train\n",
    "x_test[13]=ones_test"
   ]
  },
  {
   "cell_type": "code",
   "execution_count": 6,
   "metadata": {},
   "outputs": [],
   "source": [
    "weight=np.zeros([1, 14], dtype='float')"
   ]
  },
  {
   "cell_type": "code",
   "execution_count": 7,
   "metadata": {},
   "outputs": [],
   "source": [
    "x_train=pd.DataFrame(x_train).to_numpy()\n",
    "x_test=pd.DataFrame(x_test).to_numpy()\n"
   ]
  },
  {
   "cell_type": "code",
   "execution_count": 8,
   "metadata": {},
   "outputs": [],
   "source": [
    "def predict(x_train, weight):\n",
    "    return np.dot(x_train, weight.T)#404 X 1\n"
   ]
  },
  {
   "cell_type": "code",
   "execution_count": 12,
   "metadata": {},
   "outputs": [],
   "source": [
    "def cost_function(y_train, x_train, weight):\n",
    "    target=predict(x_train, weight)\n",
    "    sum=0\n",
    "    for i in range(len(target)):\n",
    "        sum+=(y_train[i,0]-target[i,0])**2\n",
    "    return sum/len(target)"
   ]
  },
  {
   "cell_type": "code",
   "execution_count": 13,
   "metadata": {},
   "outputs": [],
   "source": [
    "def update(weight, x_train, y_train, learning_rate):\n",
    "    weightD=np.zeros([len(x_train), 14], dtype='float')\n",
    "    sumD=np.zeros([len(x_train), 1], dtype='float')\n",
    "    target=predict(x_train, weight)\n",
    "\n",
    "    for i in range(len(x_train)):\n",
    "        for j in range(14):\n",
    "            weightD[i, j]=-2*x_train[i,j]*(y_train[i,0]-target[i,0])\n",
    "\n",
    "    for i in range(14):\n",
    "        for j in range(len(x_train)):\n",
    "            sumD[i]+=weightD[j,i]\n",
    "    for i in range(14):\n",
    "        weight[0,i]-=(sumD[i]/(len(x_train)*2))*learning_rate\n",
    "    return weight"
   ]
  },
  {
   "cell_type": "code",
   "execution_count": 14,
   "metadata": {},
   "outputs": [
    {
     "name": "stdout",
     "output_type": "stream",
     "text": [
      "666.9456500161263 \n",
      "\n",
      "533.32293863406 \n",
      "\n",
      "432.4928596253348 \n",
      "\n",
      "356.380055825762 \n",
      "\n",
      "298.89806307819543 \n",
      "\n",
      "255.45945935815314 \n",
      "\n",
      "222.60666088500057 \n",
      "\n",
      "197.73365067483115 \n",
      "\n",
      "178.87624348414246 \n",
      "\n",
      "164.5540070906449 \n",
      "\n",
      "Errors with test set:\n",
      "\n",
      "45.62673381915444\n"
     ]
    }
   ],
   "source": [
    "def train(x_train, y_train, weight, learning_rate, iters):\n",
    "    for i in range(iters):\n",
    "        update(weight, x_train, y_train, learning_rate)\n",
    "        if i%50 is 0:\n",
    "            print(cost_function(y_train, x_train, weight), \"\\n\")\n",
    "\n",
    "\n",
    "train(x_train, y_train, weight, learning_rate=1.0e-8, iters=500)\n",
    "print(\"Errors with test set:\\n\")\n",
    "print(cost_function(y_test, x_test, weight))"
   ]
  },
  {
   "cell_type": "code",
   "execution_count": null,
   "metadata": {},
   "outputs": [],
   "source": []
  }
 ],
 "metadata": {
  "kernelspec": {
   "display_name": "Python 3",
   "language": "python",
   "name": "python3"
  },
  "language_info": {
   "codemirror_mode": {
    "name": "ipython",
    "version": 3
   },
   "file_extension": ".py",
   "mimetype": "text/x-python",
   "name": "python",
   "nbconvert_exporter": "python",
   "pygments_lexer": "ipython3",
   "version": "3.7.4"
  }
 },
 "nbformat": 4,
 "nbformat_minor": 2
}
